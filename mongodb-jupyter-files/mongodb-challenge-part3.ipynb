{
 "cells": [
  {
   "cell_type": "code",
   "execution_count": 2,
   "metadata": {},
   "outputs": [],
   "source": [
    "# Import dependencies\n",
    "from pymongo import MongoClient\n",
    "from pprint import pprint\n",
    "import pandas as pd\n",
    "import matplotlib.pyplot as plt"
   ]
  },
  {
   "cell_type": "code",
   "execution_count": 3,
   "metadata": {},
   "outputs": [],
   "source": [
    "# Create an instance of MongoClient\n",
    "mongo = MongoClient(port=27017)\n",
    "\n",
    "# assign the met database to a variable name\n",
    "db = mongo['met']\n",
    "\n",
    "# assign the collection to a variable\n",
    "artifacts = db['artifacts']"
   ]
  },
  {
   "cell_type": "code",
   "execution_count": 8,
   "metadata": {},
   "outputs": [],
   "source": [
    "#Build the aggregation pipeline\n",
    "\n",
    "#Write an aggregation query that counts the number of documents, grouped by \"Country,\" then \"Classification\"\n",
    "group_query = {'$group' : {'_id' : {\"country\" : \"$country\", \"classification\" : \"$classification\"}, \n",
    "                           'count' : {'$sum': 1}}}\n",
    "\n",
    "#Create a match query that matches only the rows that have five or more documents in 'count'\n",
    "match_query = {'$match': {'count': {'$gte': 5}}}\n",
    "\n",
    "#Create a dictionary that will allow the pipeline to sort by country in alphabetical order, then countin descending order\n",
    "sort_values = {'$sort' : {'_id.country' : 1, 'count': -1}}\n",
    "\n",
    "#put the pipleline together\n",
    "pipeline = [group_query, match_query, sort_values]"
   ]
  },
  {
   "cell_type": "code",
   "execution_count": 9,
   "metadata": {},
   "outputs": [],
   "source": [
    "#Run the pipeline through the aggregate method, cast the results as a kust and save the results to a variable\n",
    "results = list(artifacts.aggregate(pipeline))"
   ]
  },
  {
   "cell_type": "code",
   "execution_count": 12,
   "metadata": {},
   "outputs": [
    {
     "name": "stdout",
     "output_type": "stream",
     "text": [
      "Number of rows in result: 46\n"
     ]
    }
   ],
   "source": [
    "#Print the number of rows in the result\n",
    "print(\"Number of rows in result: \" + str(len(results)))"
   ]
  },
  {
   "cell_type": "code",
   "execution_count": 14,
   "metadata": {},
   "outputs": [
    {
     "name": "stdout",
     "output_type": "stream",
     "text": [
      "[{'_id': {'classification': 'Bark-Paintings', 'country': 'Australia'},\n",
      "  'count': 6},\n",
      " {'_id': {'classification': 'Wood-Sculpture', 'country': 'Burkina Faso'},\n",
      "  'count': 18},\n",
      " {'_id': {'classification': 'Wood-Sculpture', 'country': 'Cameroon'},\n",
      "  'count': 10},\n",
      " {'_id': {'classification': 'Bone/Ivory-Sculpture', 'country': 'Canada'},\n",
      "  'count': 16},\n",
      " {'_id': {'classification': 'Stone-Sculpture', 'country': 'Canada'},\n",
      "  'count': 11},\n",
      " {'_id': {'classification': 'Metal-Ornaments', 'country': 'Colombia'},\n",
      "  'count': 22},\n",
      " {'_id': {'classification': 'Metal-Ornaments', 'country': 'Costa Rica'},\n",
      "  'count': 7},\n",
      " {'_id': {'classification': 'Stone-Ornaments', 'country': 'Costa Rica'},\n",
      "  'count': 5},\n",
      " {'_id': {'classification': 'Metal-Ornaments',\n",
      "          'country': 'Costa Rica or Panama'},\n",
      "  'count': 10},\n",
      " {'_id': {'classification': 'Wood-Sculpture', 'country': \"Côte d'Ivoire\"},\n",
      "  'count': 34}]\n"
     ]
    }
   ],
   "source": [
    "#Print the first 10 results\n",
    "pprint(results[0:10])"
   ]
  },
  {
   "cell_type": "code",
   "execution_count": 17,
   "metadata": {},
   "outputs": [
    {
     "data": {
      "text/html": [
       "<div>\n",
       "<style scoped>\n",
       "    .dataframe tbody tr th:only-of-type {\n",
       "        vertical-align: middle;\n",
       "    }\n",
       "\n",
       "    .dataframe tbody tr th {\n",
       "        vertical-align: top;\n",
       "    }\n",
       "\n",
       "    .dataframe thead th {\n",
       "        text-align: right;\n",
       "    }\n",
       "</style>\n",
       "<table border=\"1\" class=\"dataframe\">\n",
       "  <thead>\n",
       "    <tr style=\"text-align: right;\">\n",
       "      <th></th>\n",
       "      <th>count</th>\n",
       "      <th>_id.country</th>\n",
       "      <th>_id.classification</th>\n",
       "    </tr>\n",
       "  </thead>\n",
       "  <tbody>\n",
       "    <tr>\n",
       "      <th>0</th>\n",
       "      <td>6</td>\n",
       "      <td>Australia</td>\n",
       "      <td>Bark-Paintings</td>\n",
       "    </tr>\n",
       "    <tr>\n",
       "      <th>1</th>\n",
       "      <td>18</td>\n",
       "      <td>Burkina Faso</td>\n",
       "      <td>Wood-Sculpture</td>\n",
       "    </tr>\n",
       "    <tr>\n",
       "      <th>2</th>\n",
       "      <td>10</td>\n",
       "      <td>Cameroon</td>\n",
       "      <td>Wood-Sculpture</td>\n",
       "    </tr>\n",
       "    <tr>\n",
       "      <th>3</th>\n",
       "      <td>16</td>\n",
       "      <td>Canada</td>\n",
       "      <td>Bone/Ivory-Sculpture</td>\n",
       "    </tr>\n",
       "    <tr>\n",
       "      <th>4</th>\n",
       "      <td>11</td>\n",
       "      <td>Canada</td>\n",
       "      <td>Stone-Sculpture</td>\n",
       "    </tr>\n",
       "  </tbody>\n",
       "</table>\n",
       "</div>"
      ],
      "text/plain": [
       "   count   _id.country    _id.classification\n",
       "0      6     Australia        Bark-Paintings\n",
       "1     18  Burkina Faso        Wood-Sculpture\n",
       "2     10      Cameroon        Wood-Sculpture\n",
       "3     16        Canada  Bone/Ivory-Sculpture\n",
       "4     11        Canada       Stone-Sculpture"
      ]
     },
     "execution_count": 17,
     "metadata": {},
     "output_type": "execute_result"
    }
   ],
   "source": [
    "#Extract the fields fromt he _id so they're in separate columns in a Pandas DataFrame\n",
    "aggregated_df = pd.json_normalize(results)\n",
    "aggregated_df.head()"
   ]
  },
  {
   "cell_type": "code",
   "execution_count": 27,
   "metadata": {},
   "outputs": [
    {
     "data": {
      "text/html": [
       "<div>\n",
       "<style scoped>\n",
       "    .dataframe tbody tr th:only-of-type {\n",
       "        vertical-align: middle;\n",
       "    }\n",
       "\n",
       "    .dataframe tbody tr th {\n",
       "        vertical-align: top;\n",
       "    }\n",
       "\n",
       "    .dataframe thead th {\n",
       "        text-align: right;\n",
       "    }\n",
       "</style>\n",
       "<table border=\"1\" class=\"dataframe\">\n",
       "  <thead>\n",
       "    <tr style=\"text-align: right;\">\n",
       "      <th></th>\n",
       "      <th>Number of Artifacts</th>\n",
       "      <th>Country</th>\n",
       "      <th>Classification</th>\n",
       "    </tr>\n",
       "  </thead>\n",
       "  <tbody>\n",
       "    <tr>\n",
       "      <th>0</th>\n",
       "      <td>6</td>\n",
       "      <td>Australia</td>\n",
       "      <td>Bark-Paintings</td>\n",
       "    </tr>\n",
       "    <tr>\n",
       "      <th>1</th>\n",
       "      <td>18</td>\n",
       "      <td>Burkina Faso</td>\n",
       "      <td>Wood-Sculpture</td>\n",
       "    </tr>\n",
       "    <tr>\n",
       "      <th>2</th>\n",
       "      <td>10</td>\n",
       "      <td>Cameroon</td>\n",
       "      <td>Wood-Sculpture</td>\n",
       "    </tr>\n",
       "    <tr>\n",
       "      <th>3</th>\n",
       "      <td>16</td>\n",
       "      <td>Canada</td>\n",
       "      <td>Bone/Ivory-Sculpture</td>\n",
       "    </tr>\n",
       "    <tr>\n",
       "      <th>4</th>\n",
       "      <td>11</td>\n",
       "      <td>Canada</td>\n",
       "      <td>Stone-Sculpture</td>\n",
       "    </tr>\n",
       "  </tbody>\n",
       "</table>\n",
       "</div>"
      ],
      "text/plain": [
       "   Number of Artifacts       Country        Classification\n",
       "0                    6     Australia        Bark-Paintings\n",
       "1                   18  Burkina Faso        Wood-Sculpture\n",
       "2                   10      Cameroon        Wood-Sculpture\n",
       "3                   16        Canada  Bone/Ivory-Sculpture\n",
       "4                   11        Canada       Stone-Sculpture"
      ]
     },
     "execution_count": 27,
     "metadata": {},
     "output_type": "execute_result"
    }
   ],
   "source": [
    "#Rename the columns\n",
    "aggregated_df = aggregated_df.rename(columns={\"count\" : \"Number of Artifacts\", \n",
    "                                              \"_id.country\" : \"Country\", \n",
    "                                              \"_id.classification\" : \"Classification\"})\n",
    "aggregated_df.head()"
   ]
  },
  {
   "cell_type": "code",
   "execution_count": 29,
   "metadata": {},
   "outputs": [
    {
     "data": {
      "text/html": [
       "<div>\n",
       "<style scoped>\n",
       "    .dataframe tbody tr th:only-of-type {\n",
       "        vertical-align: middle;\n",
       "    }\n",
       "\n",
       "    .dataframe tbody tr th {\n",
       "        vertical-align: top;\n",
       "    }\n",
       "\n",
       "    .dataframe thead th {\n",
       "        text-align: right;\n",
       "    }\n",
       "</style>\n",
       "<table border=\"1\" class=\"dataframe\">\n",
       "  <thead>\n",
       "    <tr style=\"text-align: right;\">\n",
       "      <th></th>\n",
       "      <th>Country</th>\n",
       "      <th>Classification</th>\n",
       "      <th>Number of Artifacts</th>\n",
       "    </tr>\n",
       "  </thead>\n",
       "  <tbody>\n",
       "    <tr>\n",
       "      <th>0</th>\n",
       "      <td>Australia</td>\n",
       "      <td>Bark-Paintings</td>\n",
       "      <td>6</td>\n",
       "    </tr>\n",
       "    <tr>\n",
       "      <th>1</th>\n",
       "      <td>Burkina Faso</td>\n",
       "      <td>Wood-Sculpture</td>\n",
       "      <td>18</td>\n",
       "    </tr>\n",
       "    <tr>\n",
       "      <th>2</th>\n",
       "      <td>Cameroon</td>\n",
       "      <td>Wood-Sculpture</td>\n",
       "      <td>10</td>\n",
       "    </tr>\n",
       "    <tr>\n",
       "      <th>3</th>\n",
       "      <td>Canada</td>\n",
       "      <td>Bone/Ivory-Sculpture</td>\n",
       "      <td>16</td>\n",
       "    </tr>\n",
       "    <tr>\n",
       "      <th>4</th>\n",
       "      <td>Canada</td>\n",
       "      <td>Stone-Sculpture</td>\n",
       "      <td>11</td>\n",
       "    </tr>\n",
       "  </tbody>\n",
       "</table>\n",
       "</div>"
      ],
      "text/plain": [
       "        Country        Classification  Number of Artifacts\n",
       "0     Australia        Bark-Paintings                    6\n",
       "1  Burkina Faso        Wood-Sculpture                   18\n",
       "2      Cameroon        Wood-Sculpture                   10\n",
       "3        Canada  Bone/Ivory-Sculpture                   16\n",
       "4        Canada       Stone-Sculpture                   11"
      ]
     },
     "execution_count": 29,
     "metadata": {},
     "output_type": "execute_result"
    }
   ],
   "source": [
    "#Reorder the columns\n",
    "aggregated_df = aggregated_df[[\"Country\", \"Classification\", \"Number of Artifacts\"]]\n",
    "aggregated_df.head()"
   ]
  },
  {
   "cell_type": "code",
   "execution_count": 30,
   "metadata": {},
   "outputs": [
    {
     "data": {
      "text/plain": [
       "array(['Australia', 'Burkina Faso', 'Cameroon', 'Canada', 'Colombia',\n",
       "       'Costa Rica', 'Costa Rica or Panama', \"Côte d'Ivoire\",\n",
       "       'Democratic Republic of the Congo',\n",
       "       'Ecuador, Peru, Bolivia, Chile, or Argentina', 'Indonesia',\n",
       "       'Liberia', 'Mali', 'Mexico', 'Nigeria', 'Panama',\n",
       "       'Papua New Guinea', 'Peru', 'United States', 'Western Australia'],\n",
       "      dtype=object)"
      ]
     },
     "execution_count": 30,
     "metadata": {},
     "output_type": "execute_result"
    }
   ],
   "source": [
    "#Print the unique countries\n",
    "aggregated_df[\"Country\"].unique()"
   ]
  },
  {
   "cell_type": "code",
   "execution_count": 31,
   "metadata": {},
   "outputs": [
    {
     "data": {
      "text/plain": [
       "array(['Bark-Paintings', 'Wood-Sculpture', 'Bone/Ivory-Sculpture',\n",
       "       'Stone-Sculpture', 'Metal-Ornaments', 'Stone-Ornaments',\n",
       "       'Wood-Implements', 'Bone/Ivory-Ornaments', 'Sculpture-Sheet metal',\n",
       "       'Textiles', 'Textiles-Woven', 'Bone/Ivory-Implements',\n",
       "       'Ceramics-Containers', 'Wood-Architectural', 'Ceramics-Sculpture',\n",
       "       'Ceramics-Implements', 'Bone/Ivory-Musical Instruments',\n",
       "       'Bone/Ivory-Containers', 'Metal-Sculpture', 'Metal-Implements',\n",
       "       'Shell-Ornaments', 'Shell'], dtype=object)"
      ]
     },
     "execution_count": 31,
     "metadata": {},
     "output_type": "execute_result"
    }
   ],
   "source": [
    "#Print the unique classifications\n",
    "aggregated_df[\"Classification\"].unique()"
   ]
  },
  {
   "cell_type": "code",
   "execution_count": 32,
   "metadata": {},
   "outputs": [
    {
     "data": {
      "text/html": [
       "<div>\n",
       "<style scoped>\n",
       "    .dataframe tbody tr th:only-of-type {\n",
       "        vertical-align: middle;\n",
       "    }\n",
       "\n",
       "    .dataframe tbody tr th {\n",
       "        vertical-align: top;\n",
       "    }\n",
       "\n",
       "    .dataframe thead th {\n",
       "        text-align: right;\n",
       "    }\n",
       "</style>\n",
       "<table border=\"1\" class=\"dataframe\">\n",
       "  <thead>\n",
       "    <tr style=\"text-align: right;\">\n",
       "      <th></th>\n",
       "      <th>Classification</th>\n",
       "    </tr>\n",
       "    <tr>\n",
       "      <th>Country</th>\n",
       "      <th></th>\n",
       "    </tr>\n",
       "  </thead>\n",
       "  <tbody>\n",
       "    <tr>\n",
       "      <th>Indonesia</th>\n",
       "      <td>6</td>\n",
       "    </tr>\n",
       "    <tr>\n",
       "      <th>Nigeria</th>\n",
       "      <td>6</td>\n",
       "    </tr>\n",
       "    <tr>\n",
       "      <th>United States</th>\n",
       "      <td>5</td>\n",
       "    </tr>\n",
       "    <tr>\n",
       "      <th>Peru</th>\n",
       "      <td>4</td>\n",
       "    </tr>\n",
       "    <tr>\n",
       "      <th>Mexico</th>\n",
       "      <td>4</td>\n",
       "    </tr>\n",
       "    <tr>\n",
       "      <th>Democratic Republic of the Congo</th>\n",
       "      <td>3</td>\n",
       "    </tr>\n",
       "    <tr>\n",
       "      <th>Canada</th>\n",
       "      <td>2</td>\n",
       "    </tr>\n",
       "    <tr>\n",
       "      <th>Costa Rica</th>\n",
       "      <td>2</td>\n",
       "    </tr>\n",
       "    <tr>\n",
       "      <th>Papua New Guinea</th>\n",
       "      <td>2</td>\n",
       "    </tr>\n",
       "    <tr>\n",
       "      <th>Côte d'Ivoire</th>\n",
       "      <td>2</td>\n",
       "    </tr>\n",
       "    <tr>\n",
       "      <th>Mali</th>\n",
       "      <td>1</td>\n",
       "    </tr>\n",
       "    <tr>\n",
       "      <th>Panama</th>\n",
       "      <td>1</td>\n",
       "    </tr>\n",
       "    <tr>\n",
       "      <th>Australia</th>\n",
       "      <td>1</td>\n",
       "    </tr>\n",
       "    <tr>\n",
       "      <th>Liberia</th>\n",
       "      <td>1</td>\n",
       "    </tr>\n",
       "    <tr>\n",
       "      <th>Burkina Faso</th>\n",
       "      <td>1</td>\n",
       "    </tr>\n",
       "    <tr>\n",
       "      <th>Ecuador, Peru, Bolivia, Chile, or Argentina</th>\n",
       "      <td>1</td>\n",
       "    </tr>\n",
       "    <tr>\n",
       "      <th>Costa Rica or Panama</th>\n",
       "      <td>1</td>\n",
       "    </tr>\n",
       "    <tr>\n",
       "      <th>Colombia</th>\n",
       "      <td>1</td>\n",
       "    </tr>\n",
       "    <tr>\n",
       "      <th>Cameroon</th>\n",
       "      <td>1</td>\n",
       "    </tr>\n",
       "    <tr>\n",
       "      <th>Western Australia</th>\n",
       "      <td>1</td>\n",
       "    </tr>\n",
       "  </tbody>\n",
       "</table>\n",
       "</div>"
      ],
      "text/plain": [
       "                                             Classification\n",
       "Country                                                    \n",
       "Indonesia                                                 6\n",
       "Nigeria                                                   6\n",
       "United States                                             5\n",
       "Peru                                                      4\n",
       "Mexico                                                    4\n",
       "Democratic Republic of the Congo                          3\n",
       "Canada                                                    2\n",
       "Costa Rica                                                2\n",
       "Papua New Guinea                                          2\n",
       "Côte d'Ivoire                                             2\n",
       "Mali                                                      1\n",
       "Panama                                                    1\n",
       "Australia                                                 1\n",
       "Liberia                                                   1\n",
       "Burkina Faso                                              1\n",
       "Ecuador, Peru, Bolivia, Chile, or Argentina               1\n",
       "Costa Rica or Panama                                      1\n",
       "Colombia                                                  1\n",
       "Cameroon                                                  1\n",
       "Western Australia                                         1"
      ]
     },
     "execution_count": 32,
     "metadata": {},
     "output_type": "execute_result"
    }
   ],
   "source": [
    "#Find out which # Find out which countries have the most classifications\n",
    "# Create a DataFrame that groups by country\n",
    "countries_grouped = pd.DataFrame(aggregated_df[[\"Country\", \"Classification\"]].groupby(\"Country\").count())\n",
    "\n",
    "\n",
    "# Print the DataFrame, sorted in descending order on classification\n",
    "countries_grouped.sort_values(\"Classification\", ascending=False)"
   ]
  },
  {
   "cell_type": "code",
   "execution_count": 48,
   "metadata": {},
   "outputs": [
    {
     "data": {
      "text/html": [
       "<div>\n",
       "<style scoped>\n",
       "    .dataframe tbody tr th:only-of-type {\n",
       "        vertical-align: middle;\n",
       "    }\n",
       "\n",
       "    .dataframe tbody tr th {\n",
       "        vertical-align: top;\n",
       "    }\n",
       "\n",
       "    .dataframe thead th {\n",
       "        text-align: right;\n",
       "    }\n",
       "</style>\n",
       "<table border=\"1\" class=\"dataframe\">\n",
       "  <thead>\n",
       "    <tr style=\"text-align: right;\">\n",
       "      <th></th>\n",
       "      <th>Country</th>\n",
       "      <th>Classification</th>\n",
       "      <th>Number of Artifacts</th>\n",
       "    </tr>\n",
       "  </thead>\n",
       "  <tbody>\n",
       "    <tr>\n",
       "      <th>15</th>\n",
       "      <td>Indonesia</td>\n",
       "      <td>Wood-Sculpture</td>\n",
       "      <td>14</td>\n",
       "    </tr>\n",
       "    <tr>\n",
       "      <th>16</th>\n",
       "      <td>Indonesia</td>\n",
       "      <td>Textiles</td>\n",
       "      <td>13</td>\n",
       "    </tr>\n",
       "    <tr>\n",
       "      <th>17</th>\n",
       "      <td>Indonesia</td>\n",
       "      <td>Textiles-Woven</td>\n",
       "      <td>12</td>\n",
       "    </tr>\n",
       "    <tr>\n",
       "      <th>18</th>\n",
       "      <td>Indonesia</td>\n",
       "      <td>Bone/Ivory-Implements</td>\n",
       "      <td>7</td>\n",
       "    </tr>\n",
       "    <tr>\n",
       "      <th>19</th>\n",
       "      <td>Indonesia</td>\n",
       "      <td>Ceramics-Containers</td>\n",
       "      <td>6</td>\n",
       "    </tr>\n",
       "    <tr>\n",
       "      <th>20</th>\n",
       "      <td>Indonesia</td>\n",
       "      <td>Wood-Architectural</td>\n",
       "      <td>5</td>\n",
       "    </tr>\n",
       "  </tbody>\n",
       "</table>\n",
       "</div>"
      ],
      "text/plain": [
       "      Country         Classification  Number of Artifacts\n",
       "15  Indonesia         Wood-Sculpture                   14\n",
       "16  Indonesia               Textiles                   13\n",
       "17  Indonesia         Textiles-Woven                   12\n",
       "18  Indonesia  Bone/Ivory-Implements                    7\n",
       "19  Indonesia    Ceramics-Containers                    6\n",
       "20  Indonesia     Wood-Architectural                    5"
      ]
     },
     "execution_count": 48,
     "metadata": {},
     "output_type": "execute_result"
    }
   ],
   "source": [
    "# Create a DataFrame of just the Indonesian artifacts\n",
    "Indonesia_df = aggregated_df.loc[aggregated_df[\"Country\"] == \"Indonesia\", [\"Country\", \"Classification\", \"Number of Artifacts\"]]\n",
    "Indonesia_df"
   ]
  },
  {
   "cell_type": "code",
   "execution_count": 50,
   "metadata": {},
   "outputs": [
    {
     "data": {
      "image/png": "[encoded data removed]",
      "text/plain": [
       "<Figure size 600x600 with 1 Axes>"
      ]
     },
     "metadata": {},
     "output_type": "display_data"
    }
   ],
   "source": [
    "# Create a pie chart of the Indonesian artifacts\n",
    "Indonesia_df.plot(kind='pie',\n",
    "              y='Number of Artifacts',\n",
    "              autopct='%1.1f%%',\n",
    "              ylabel='',\n",
    "              labels=Indonesia_df.Classification,\n",
    "              legend=False,\n",
    "              title=\"Percentage of Indonesian Artifacts by Classification\",\n",
    "              figsize=(6,6))\n",
    "\n",
    "plt.savefig(\"../figures/IndonesiaPieChart.png\")\n",
    "\n",
    "plt.show()"
   ]
  },
  {
   "cell_type": "code",
   "execution_count": 51,
   "metadata": {},
   "outputs": [
    {
     "data": {
      "image/png": "[encoded data removed]",
      "text/plain": [
       "<Figure size 600x600 with 1 Axes>"
      ]
     },
     "metadata": {},
     "output_type": "display_data"
    }
   ],
   "source": [
    "# Create a horizontal bar chart of the Nigerian artifacts\n",
    "aggregated_df[aggregated_df[\"Country\"] == \"Nigeria\"].plot(kind='barh', \n",
    "                                                          x=\"Classification\", \n",
    "                                                          y=\"Number of Artifacts\", \n",
    "                                                          title=\"Number of Nigerian Artifacts by Classification\",\n",
    "                                                         figsize=(6,6))\n",
    "\n",
    "plt.savefig(\"../figures/NigerianArtifacts.png\")\n",
    "\n",
    "plt.show()"
   ]
  },
  {
   "cell_type": "code",
   "execution_count": 54,
   "metadata": {},
   "outputs": [
    {
     "data": {
      "text/html": [
       "<div>\n",
       "<style scoped>\n",
       "    .dataframe tbody tr th:only-of-type {\n",
       "        vertical-align: middle;\n",
       "    }\n",
       "\n",
       "    .dataframe tbody tr th {\n",
       "        vertical-align: top;\n",
       "    }\n",
       "\n",
       "    .dataframe thead th {\n",
       "        text-align: right;\n",
       "    }\n",
       "</style>\n",
       "<table border=\"1\" class=\"dataframe\">\n",
       "  <thead>\n",
       "    <tr style=\"text-align: right;\">\n",
       "      <th></th>\n",
       "      <th>Country</th>\n",
       "      <th>Classification</th>\n",
       "      <th>Number of Artifacts</th>\n",
       "    </tr>\n",
       "  </thead>\n",
       "  <tbody>\n",
       "    <tr>\n",
       "      <th>27</th>\n",
       "      <td>Nigeria</td>\n",
       "      <td>Bone/Ivory-Sculpture</td>\n",
       "      <td>17</td>\n",
       "    </tr>\n",
       "    <tr>\n",
       "      <th>28</th>\n",
       "      <td>Nigeria</td>\n",
       "      <td>Wood-Sculpture</td>\n",
       "      <td>14</td>\n",
       "    </tr>\n",
       "    <tr>\n",
       "      <th>29</th>\n",
       "      <td>Nigeria</td>\n",
       "      <td>Bone/Ivory-Ornaments</td>\n",
       "      <td>11</td>\n",
       "    </tr>\n",
       "    <tr>\n",
       "      <th>30</th>\n",
       "      <td>Nigeria</td>\n",
       "      <td>Bone/Ivory-Musical Instruments</td>\n",
       "      <td>9</td>\n",
       "    </tr>\n",
       "    <tr>\n",
       "      <th>31</th>\n",
       "      <td>Nigeria</td>\n",
       "      <td>Bone/Ivory-Containers</td>\n",
       "      <td>7</td>\n",
       "    </tr>\n",
       "    <tr>\n",
       "      <th>32</th>\n",
       "      <td>Nigeria</td>\n",
       "      <td>Metal-Sculpture</td>\n",
       "      <td>7</td>\n",
       "    </tr>\n",
       "  </tbody>\n",
       "</table>\n",
       "</div>"
      ],
      "text/plain": [
       "    Country                  Classification  Number of Artifacts\n",
       "27  Nigeria            Bone/Ivory-Sculpture                   17\n",
       "28  Nigeria                  Wood-Sculpture                   14\n",
       "29  Nigeria            Bone/Ivory-Ornaments                   11\n",
       "30  Nigeria  Bone/Ivory-Musical Instruments                    9\n",
       "31  Nigeria           Bone/Ivory-Containers                    7\n",
       "32  Nigeria                 Metal-Sculpture                    7"
      ]
     },
     "execution_count": 54,
     "metadata": {},
     "output_type": "execute_result"
    }
   ],
   "source": [
    "# Print the DataFrame of just the Nigerian artifacts\n",
    "Nigeria_df = aggregated_df.loc[aggregated_df[\"Country\"] == \"Nigeria\", [\"Country\", \"Classification\", \"Number of Artifacts\"]]\n",
    "Nigeria_df"
   ]
  },
  {
   "cell_type": "markdown",
   "metadata": {},
   "source": [
    " Data Source: The Metropolitan Museum of Art (2022). The Metropolitan Museum of Art Collection API https://metmuseum.github.io/. Licensed under the Creative Commons 0 License.\n",
    "Accessed Oct 3, 2022. Data collected from departmentId=5 (\"Arts of Africa, Oceania, and the Americas\") and search string \"animal\"."
   ]
  }
 ],
 "metadata": {
  "kernelspec": {
   "display_name": "Python 3 (ipykernel)",
   "language": "python",
   "name": "python3"
  },
  "language_info": {
   "codemirror_mode": {
    "name": "ipython",
    "version": 3
   },
   "file_extension": ".py",
   "mimetype": "text/x-python",
   "name": "python",
   "nbconvert_exporter": "python",
   "pygments_lexer": "ipython3",
   "version": "3.10.12"
  },
  "vscode": {
   "interpreter": {
    "hash": "31f2aee4e71d21fbe5cf8b01ff0e069b9275f58929596ceb00d14d90e3e16cd6"
   }
  }
 },
 "nbformat": 4,
 "nbformat_minor": 4
}
